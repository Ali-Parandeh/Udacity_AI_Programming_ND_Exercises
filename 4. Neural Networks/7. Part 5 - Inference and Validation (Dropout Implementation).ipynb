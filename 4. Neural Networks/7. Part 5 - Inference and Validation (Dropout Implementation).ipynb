{
 "cells": [
  {
   "cell_type": "markdown",
   "metadata": {},
   "source": [
    "# Inference and Validation\n",
    "\n",
    "Now that you have a trained network, you can use it for making predictions. This is typically called **inference**, a term borrowed from statistics. However, neural networks have a tendency to perform *too well* on the training data and aren't able to generalize to data that hasn't been seen before. This is called **overfitting** and it impairs inference performance. To test for overfitting while training, we measure the performance on data not in the training set called the **validation** set. We avoid overfitting through regularization such as dropout while monitoring the validation performance during training. In this notebook, I'll show you how to do this in PyTorch. \n",
    "\n",
    "As usual, let's start by loading the dataset through torchvision. You'll learn more about torchvision and loading data in a later part. This time we'll be taking advantage of the test set which you can get by setting `train=False` here:\n",
    "\n",
    "```python\n",
    "testset = datasets.FashionMNIST('~/.pytorch/F_MNIST_data/', download=True, train=False, transform=transform)\n",
    "```\n",
    "\n",
    "The test set contains images just like the training set. Typically you'll see 10-20% of the original dataset held out for testing and validation with the rest being used for training."
   ]
  },
  {
   "cell_type": "code",
   "execution_count": 4,
   "metadata": {},
   "outputs": [
    {
     "name": "stdout",
     "output_type": "stream",
     "text": [
      "Downloading http://fashion-mnist.s3-website.eu-central-1.amazonaws.com/train-images-idx3-ubyte.gz\n",
      "Downloading http://fashion-mnist.s3-website.eu-central-1.amazonaws.com/train-labels-idx1-ubyte.gz\n",
      "Downloading http://fashion-mnist.s3-website.eu-central-1.amazonaws.com/t10k-images-idx3-ubyte.gz\n",
      "Downloading http://fashion-mnist.s3-website.eu-central-1.amazonaws.com/t10k-labels-idx1-ubyte.gz\n",
      "Processing...\n",
      "Done!\n"
     ]
    }
   ],
   "source": [
    "import torch\n",
    "from torchvision import datasets, transforms\n",
    "\n",
    "# Define a transform to normalize the data\n",
    "transform = transforms.Compose([transforms.ToTensor(),\n",
    "                                transforms.Normalize((0.5, 0.5, 0.5), (0.5, 0.5, 0.5))])\n",
    "# Download and load the training data\n",
    "trainset = datasets.FashionMNIST('~/.pytorch/F_MNIST_data/', download=True, train=True, transform=transform)\n",
    "trainloader = torch.utils.data.DataLoader(trainset, batch_size=64, shuffle=True)\n",
    "\n",
    "# Download and load the test data\n",
    "testset = datasets.FashionMNIST('~/.pytorch/F_MNIST_data/', download=True, train=False, transform=transform)\n",
    "testloader = torch.utils.data.DataLoader(testset, batch_size=64, shuffle=True)"
   ]
  },
  {
   "cell_type": "markdown",
   "metadata": {},
   "source": [
    "Here I'll create a model like normal, using the same one from my solution for part 4."
   ]
  },
  {
   "cell_type": "code",
   "execution_count": 5,
   "metadata": {},
   "outputs": [],
   "source": [
    "from torch import nn, optim\n",
    "import torch.nn.functional as F\n",
    "\n",
    "class Classifier(nn.Module):\n",
    "    def __init__(self):\n",
    "        super().__init__()\n",
    "        self.fc1 = nn.Linear(784, 256)\n",
    "        self.fc2 = nn.Linear(256, 128)\n",
    "        self.fc3 = nn.Linear(128, 64)\n",
    "        self.fc4 = nn.Linear(64, 10)\n",
    "        \n",
    "    def forward(self, x):\n",
    "        # make sure input tensor is flattened\n",
    "        x = x.view(x.shape[0], -1)\n",
    "        \n",
    "        x = F.relu(self.fc1(x))\n",
    "        x = F.relu(self.fc2(x))\n",
    "        x = F.relu(self.fc3(x))\n",
    "        x = F.log_softmax(self.fc4(x), dim=1)\n",
    "        \n",
    "        return x"
   ]
  },
  {
   "cell_type": "markdown",
   "metadata": {},
   "source": [
    "The goal of validation is to measure the model's performance on data that isn't part of the training set. Performance here is up to the developer to define though. Typically this is just accuracy, the percentage of classes the network predicted correctly. Other options are [precision and recall](https://en.wikipedia.org/wiki/Precision_and_recall#Definition_(classification_context)) and top-5 error rate. We'll focus on accuracy here. First I'll do a forward pass with one batch from the test set."
   ]
  },
  {
   "cell_type": "code",
   "execution_count": 6,
   "metadata": {},
   "outputs": [
    {
     "name": "stdout",
     "output_type": "stream",
     "text": [
      "torch.Size([64, 10])\n"
     ]
    }
   ],
   "source": [
    "model = Classifier()\n",
    "\n",
    "images, labels = next(iter(testloader))\n",
    "# Get the class probabilities\n",
    "ps = torch.exp(model(images))\n",
    "# Make sure the shape is appropriate, we should get 10 class probabilities for 64 examples\n",
    "print(ps.shape)"
   ]
  },
  {
   "cell_type": "markdown",
   "metadata": {},
   "source": [
    "With the probabilities, we can get the most likely class using the `ps.topk` method. This returns the $k$ highest values. Since we just want the most likely class, we can use `ps.topk(1)`. This returns a tuple of the top-$k$ values and the top-$k$ indices. If the highest value is the fifth element, we'll get back 4 as the index."
   ]
  },
  {
   "cell_type": "code",
   "execution_count": 7,
   "metadata": {
    "scrolled": true
   },
   "outputs": [
    {
     "name": "stdout",
     "output_type": "stream",
     "text": [
      "torch.Size([64, 1])\n",
      "torch.Size([64, 1])\n"
     ]
    }
   ],
   "source": [
    "print(ps.topk(1, dim=1)[0].shape)\n",
    "print(ps.topk(1, dim=1)[1].shape)"
   ]
  },
  {
   "cell_type": "code",
   "execution_count": 8,
   "metadata": {},
   "outputs": [
    {
     "name": "stdout",
     "output_type": "stream",
     "text": [
      "tensor([[ 1,  6],\n",
      "        [ 1,  6],\n",
      "        [ 1,  6],\n",
      "        [ 1,  6],\n",
      "        [ 1,  6],\n",
      "        [ 1,  6],\n",
      "        [ 1,  6],\n",
      "        [ 1,  6],\n",
      "        [ 1,  6],\n",
      "        [ 1,  6]]) \n",
      " tensor([[ 0.1181,  0.1154],\n",
      "        [ 0.1187,  0.1133],\n",
      "        [ 0.1189,  0.1118],\n",
      "        [ 0.1192,  0.1126],\n",
      "        [ 0.1147,  0.1114],\n",
      "        [ 0.1208,  0.1138],\n",
      "        [ 0.1189,  0.1128],\n",
      "        [ 0.1151,  0.1120],\n",
      "        [ 0.1166,  0.1137],\n",
      "        [ 0.1181,  0.1118]])\n"
     ]
    }
   ],
   "source": [
    "top_p, top_class = ps.topk(2, dim=1)\n",
    "# Look at the top 2 most likely classes for the first 10 examples, top_p are probabilities and top_class are index values\n",
    "print(top_class[:10,:], \"\\n\", top_p[:10, :])"
   ]
  },
  {
   "cell_type": "code",
   "execution_count": 9,
   "metadata": {
    "scrolled": true
   },
   "outputs": [
    {
     "name": "stdout",
     "output_type": "stream",
     "text": [
      "tensor([[ 1],\n",
      "        [ 1],\n",
      "        [ 1],\n",
      "        [ 1],\n",
      "        [ 1],\n",
      "        [ 1],\n",
      "        [ 1],\n",
      "        [ 1],\n",
      "        [ 1],\n",
      "        [ 1]])\n"
     ]
    }
   ],
   "source": [
    "top_p, top_class = ps.topk(1, dim=1)\n",
    "# Look at the most likely classes for the first 10 examples\n",
    "print(top_class[:10,:]) "
   ]
  },
  {
   "cell_type": "markdown",
   "metadata": {},
   "source": [
    "Now we can check if the predicted classes match the labels. This is simple to do by equating `top_class` and `labels`, but we have to be careful of the shapes. Here `top_class` is a 2D tensor with shape `(64, 1)` while `labels` is 1D with shape `(64)`. To get the equality to work out the way we want, `top_class` and `labels` must have the same shape.\n",
    "\n",
    "If we do\n",
    "\n",
    "```python\n",
    "equals = top_class == labels\n",
    "```\n",
    "\n",
    "`equals` will have shape `(64, 64)`, try it yourself. What it's doing is comparing the one element in each row of `top_class` with each element in `labels` which returns 64 True/False boolean values for each row."
   ]
  },
  {
   "cell_type": "code",
   "execution_count": 10,
   "metadata": {},
   "outputs": [
    {
     "name": "stdout",
     "output_type": "stream",
     "text": [
      "torch.Size([64, 64])\n"
     ]
    }
   ],
   "source": [
    "equals = top_class == labels # Compares each row of top_class with each value in labels. Returns 64 bools per 64 rows\n",
    "print(equals.shape)"
   ]
  },
  {
   "cell_type": "code",
   "execution_count": 11,
   "metadata": {},
   "outputs": [
    {
     "name": "stdout",
     "output_type": "stream",
     "text": [
      "torch.Size([64, 1])\n",
      "64 1\n"
     ]
    }
   ],
   "source": [
    "print(top_class.shape)\n",
    "print(*top_class.shape) # Unpacks the tensor size values which than you can feed the .view() method for reshaping labels tensor"
   ]
  },
  {
   "cell_type": "code",
   "execution_count": 12,
   "metadata": {},
   "outputs": [
    {
     "name": "stdout",
     "output_type": "stream",
     "text": [
      "torch.Size([64, 1])\n",
      "tensor([[ 0],\n",
      "        [ 0],\n",
      "        [ 1],\n",
      "        [ 0],\n",
      "        [ 0]], dtype=torch.uint8)\n"
     ]
    }
   ],
   "source": [
    "# With this reshape of labels using top_class, each row of top_class is compared with corresponding value of the labels tensor\n",
    "equals = top_class == labels.view(*top_class.shape) \n",
    "print(equals.shape)\n",
    "print(equals[:5])"
   ]
  },
  {
   "cell_type": "markdown",
   "metadata": {},
   "source": [
    "Now we need to calculate the percentage of correct predictions. `equals` has binary values, either 0 or 1. This means that if we just sum up all the values and divide by the number of values, we get the percentage of correct predictions. This is the same operation as taking the mean, so we can get the accuracy with a call to `torch.mean`. If only it was that simple. If you try `torch.mean(equals)`, you'll get an error\n",
    "\n",
    "```\n",
    "RuntimeError: mean is not implemented for type torch.ByteTensor\n",
    "```\n",
    "\n",
    "This happens because `equals` has type `torch.ByteTensor` but `torch.mean` isn't implemented for tensors with that type. So we'll need to convert `equals` to a float tensor. Note that when we take `torch.mean` it returns a scalar tensor, to get the actual value as a float we'll need to do `accuracy.item()`."
   ]
  },
  {
   "cell_type": "code",
   "execution_count": 13,
   "metadata": {},
   "outputs": [
    {
     "name": "stdout",
     "output_type": "stream",
     "text": [
      "Accuracy: 9.375%\n"
     ]
    }
   ],
   "source": [
    "accuracy = torch.mean(equals.type(torch.FloatTensor))\n",
    "print(f'Accuracy: {accuracy.item()*100}%')"
   ]
  },
  {
   "cell_type": "markdown",
   "metadata": {},
   "source": [
    "The network is untrained so it's making random guesses and we should see an accuracy around 10%. Now let's train our network and include our validation pass so we can measure how well the network is performing on the test set. Since we're not updating our parameters in the validation pass, we can speed up our code by turning off gradients using `torch.no_grad()`:\n",
    "\n",
    "```python\n",
    "# turn off gradients\n",
    "with torch.no_grad():\n",
    "    # validation pass here\n",
    "    for images, labels in testloader:\n",
    "        ...\n",
    "```\n",
    "\n",
    ">**Exercise:** Implement the validation loop below and print out the total accuracy after the loop. You can largely copy and paste the code from above, but I suggest typing it in because writing it out yourself is essential for building the skill. In general you'll always learn more by typing it rather than copy-pasting. You should be able to get an accuracy above 80%."
   ]
  },
  {
   "cell_type": "code",
   "execution_count": 14,
   "metadata": {
    "scrolled": false
   },
   "outputs": [
    {
     "name": "stdout",
     "output_type": "stream",
     "text": [
      "Epoch 1/30..  Training Loss: 0.513..  Test Loss: 0.462..  Test Accuracy: 0.825\n",
      "Epoch 2/30..  Training Loss: 0.392..  Test Loss: 0.401..  Test Accuracy: 0.860\n",
      "Epoch 3/30..  Training Loss: 0.354..  Test Loss: 0.417..  Test Accuracy: 0.852\n",
      "Epoch 4/30..  Training Loss: 0.332..  Test Loss: 0.381..  Test Accuracy: 0.869\n",
      "Epoch 5/30..  Training Loss: 0.318..  Test Loss: 0.367..  Test Accuracy: 0.872\n",
      "Epoch 6/30..  Training Loss: 0.301..  Test Loss: 0.363..  Test Accuracy: 0.874\n",
      "Epoch 7/30..  Training Loss: 0.294..  Test Loss: 0.367..  Test Accuracy: 0.874\n",
      "Epoch 8/30..  Training Loss: 0.281..  Test Loss: 0.365..  Test Accuracy: 0.870\n",
      "Epoch 9/30..  Training Loss: 0.276..  Test Loss: 0.364..  Test Accuracy: 0.875\n",
      "Epoch 10/30..  Training Loss: 0.268..  Test Loss: 0.386..  Test Accuracy: 0.873\n",
      "Epoch 11/30..  Training Loss: 0.264..  Test Loss: 0.351..  Test Accuracy: 0.881\n",
      "Epoch 12/30..  Training Loss: 0.250..  Test Loss: 0.390..  Test Accuracy: 0.879\n",
      "Epoch 13/30..  Training Loss: 0.250..  Test Loss: 0.363..  Test Accuracy: 0.885\n",
      "Epoch 14/30..  Training Loss: 0.245..  Test Loss: 0.350..  Test Accuracy: 0.880\n",
      "Epoch 15/30..  Training Loss: 0.238..  Test Loss: 0.373..  Test Accuracy: 0.877\n",
      "Epoch 16/30..  Training Loss: 0.233..  Test Loss: 0.361..  Test Accuracy: 0.876\n",
      "Epoch 17/30..  Training Loss: 0.234..  Test Loss: 0.379..  Test Accuracy: 0.880\n",
      "Epoch 18/30..  Training Loss: 0.228..  Test Loss: 0.380..  Test Accuracy: 0.884\n",
      "Epoch 19/30..  Training Loss: 0.219..  Test Loss: 0.378..  Test Accuracy: 0.879\n",
      "Epoch 20/30..  Training Loss: 0.218..  Test Loss: 0.402..  Test Accuracy: 0.880\n",
      "Epoch 21/30..  Training Loss: 0.214..  Test Loss: 0.388..  Test Accuracy: 0.881\n",
      "Epoch 22/30..  Training Loss: 0.213..  Test Loss: 0.380..  Test Accuracy: 0.884\n",
      "Epoch 23/30..  Training Loss: 0.205..  Test Loss: 0.388..  Test Accuracy: 0.881\n",
      "Epoch 24/30..  Training Loss: 0.201..  Test Loss: 0.391..  Test Accuracy: 0.879\n",
      "Epoch 25/30..  Training Loss: 0.198..  Test Loss: 0.425..  Test Accuracy: 0.882\n",
      "Epoch 26/30..  Training Loss: 0.196..  Test Loss: 0.426..  Test Accuracy: 0.884\n",
      "Epoch 27/30..  Training Loss: 0.195..  Test Loss: 0.380..  Test Accuracy: 0.884\n",
      "Epoch 28/30..  Training Loss: 0.193..  Test Loss: 0.403..  Test Accuracy: 0.876\n",
      "Epoch 29/30..  Training Loss: 0.190..  Test Loss: 0.403..  Test Accuracy: 0.882\n",
      "Epoch 30/30..  Training Loss: 0.186..  Test Loss: 0.401..  Test Accuracy: 0.884\n"
     ]
    }
   ],
   "source": [
    "model = Classifier()\n",
    "criterion = nn.NLLLoss()\n",
    "optimizer = optim.Adam(model.parameters(), lr=0.003)\n",
    "\n",
    "epochs = 30\n",
    "steps = 0\n",
    "\n",
    "# Vectors to store the training an testing loss values for plotting later\n",
    "train_losses, test_losses = [], []\n",
    "\n",
    "for e in range(epochs):\n",
    "    training_loss = 0\n",
    "    for images, labels in trainloader:\n",
    "        optimizer.zero_grad()\n",
    "        log_ps = model(images)\n",
    "        loss = criterion(log_ps, labels)\n",
    "        loss.backward()\n",
    "        optimizer.step()\n",
    "        training_loss += loss.item()\n",
    "        \n",
    "    else: # Run this code block after the images, labels for loop has finished running.\n",
    "        \n",
    "        ## TODO: Implement the validation pass and print out the validation accuracy\n",
    "        # Reseting test_loss and accuracy values to 0 for each epoch\n",
    "        test_loss = 0\n",
    "        accuracy = 0\n",
    "        \n",
    "        #  Since we're not updating our parameters in the validation pass, we can speed up our code by turning off gradients.\n",
    "        with torch.no_grad():\n",
    "        # Load images and labels from the testing data loader\n",
    "            for images, labels in testloader:\n",
    "                # Performing a forward pass on the testing images - Output is in softmax logs\n",
    "                log_ps = model(images)\n",
    "                # Adding up validation losses for all images in each epoch\n",
    "                test_loss += criterion(log_ps, labels)\n",
    "                # Calculating the probabilties from output logs \n",
    "                ps = torch.exp(log_ps)\n",
    "                # For all images, select the class with the highest probability values and indices to those values\n",
    "                # This is network's prediction for what each image represents\n",
    "                top_p, top_class = ps.topk(1, dim=1)\n",
    "                # Compare the prediction of the network for all images with associated image labels in the testing batch.\n",
    "                # Save the boolean results in the equals tensor\n",
    "                equals = top_class == labels.view(*top_class.shape)\n",
    "                # Calculate the accuracy of the network predicitions by taking average \n",
    "                # of the correct predictions vs all predictions\n",
    "                accuracy += torch.mean(equals.type(torch.FloatTensor))\n",
    "        \n",
    "        # Append the total training and validation losses to the vectors for plotting later\n",
    "        train_losses.append(training_loss/len(trainloader))\n",
    "        test_losses.append(test_loss/len(testloader))\n",
    "        \n",
    "        # Print the current Epoch, testing and validation losses plus accuracy for each epoch. \n",
    "        # You can expect a fluctuating validation loss and accuracy\n",
    "        # This is due to a potentially overfitted network to the training set.\n",
    "        print(\"Epoch {}/{}.. \".format(e+1, epochs),\n",
    "             \"Training Loss: {:.3f}.. \".format(training_loss/len(trainloader)),\n",
    "             \"Test Loss: {:.3f}.. \".format(test_loss/len(testloader)),\n",
    "             \"Test Accuracy: {:.3f}\".format(accuracy/len(testloader)))\n",
    "        "
   ]
  },
  {
   "cell_type": "code",
   "execution_count": 15,
   "metadata": {},
   "outputs": [],
   "source": [
    "%matplotlib inline\n",
    "%config inlineBackend.figure_format = \"retina\"\n",
    "import matplotlib.pyplot as plt"
   ]
  },
  {
   "cell_type": "code",
   "execution_count": 16,
   "metadata": {},
   "outputs": [
    {
     "data": {
      "image/png": "[encoded data removed]",
      "text/plain": [
       "<matplotlib.figure.Figure at 0x7f6f99dd2f60>"
      ]
     },
     "metadata": {
      "needs_background": "light"
     },
     "output_type": "display_data"
    }
   ],
   "source": [
    "plt.plot(train_losses, label=\"Training Loss\")\n",
    "plt.plot(test_losses, label=\"Validation Loss\")\n",
    "plt.legend(frameon= False);"
   ]
  },
  {
   "cell_type": "markdown",
   "metadata": {},
   "source": [
    "## Overfitting\n",
    "\n",
    "If we look at the training and validation losses as we train the network, we can see a phenomenon known as overfitting.\n",
    "\n",
    "<img src='assets/overfitting.png' width=\"450px\">\n",
    "\n",
    "The network learns the training set better and better, resulting in lower training losses. However, it starts having problems generalizing to data outside the training set leading to the validation loss increasing. The ultimate goal of any deep learning model is to make predictions on new data, so we should strive to get the lowest validation loss possible. One option is to use the version of the model with the lowest validation loss, here the one around 8-10 training epochs. This strategy is called *early-stopping*. In practice, you'd save the model frequently as you're training then later choose the model with the lowest validation loss.\n",
    "\n",
    "The most common method to reduce overfitting (outside of early-stopping) is *dropout*, where we randomly drop input units. This forces the network to share information between weights, increasing it's ability to generalize to new data. Adding dropout in PyTorch is straightforward using the [`nn.Dropout`](https://pytorch.org/docs/stable/nn.html#torch.nn.Dropout) module.\n",
    "\n",
    "```python\n",
    "class Classifier(nn.Module):\n",
    "    def __init__(self):\n",
    "        super().__init__()\n",
    "        self.fc1 = nn.Linear(784, 256)\n",
    "        self.fc2 = nn.Linear(256, 128)\n",
    "        self.fc3 = nn.Linear(128, 64)\n",
    "        self.fc4 = nn.Linear(64, 10)\n",
    "        \n",
    "        # Dropout module with 0.2 drop probability\n",
    "        self.dropout = nn.Dropout(p=0.2)\n",
    "        \n",
    "    def forward(self, x):\n",
    "        # make sure input tensor is flattened\n",
    "        x = x.view(x.shape[0], -1)\n",
    "        \n",
    "        # Now with dropout\n",
    "        x = self.dropout(F.relu(self.fc1(x)))\n",
    "        x = self.dropout(F.relu(self.fc2(x)))\n",
    "        x = self.dropout(F.relu(self.fc3(x)))\n",
    "        \n",
    "        # output so no dropout here\n",
    "        x = F.log_softmax(self.fc4(x), dim=1)\n",
    "        \n",
    "        return x\n",
    "```\n",
    "\n",
    "During training we want to use dropout to prevent overfitting, but during inference we want to use the entire network. So, we need to turn off dropout during validation, testing, and whenever we're using the network to make predictions. To do this, you use `model.eval()`. This sets the model to evaluation mode where the dropout probability is 0. You can turn dropout back on by setting the model to train mode with `model.train()`. In general, the pattern for the validation loop will look like this, where you turn off gradients, set the model to evaluation mode, calculate the validation loss and metric, then set the model back to train mode.\n",
    "\n",
    "```python\n",
    "# turn off gradients\n",
    "with torch.no_grad():\n",
    "    \n",
    "    # set model to evaluation mode\n",
    "    model.eval()\n",
    "    \n",
    "    # validation pass here\n",
    "    for images, labels in testloader:\n",
    "        ...\n",
    "\n",
    "# set model back to train mode\n",
    "model.train()\n",
    "```"
   ]
  },
  {
   "cell_type": "markdown",
   "metadata": {},
   "source": [
    "> **Exercise:** Add dropout to your model and train it on Fashion-MNIST again. See if you can get a lower validation loss or higher accuracy."
   ]
  },
  {
   "cell_type": "code",
   "execution_count": 17,
   "metadata": {},
   "outputs": [],
   "source": [
    "## TODO: Define your model with dropout added\n",
    "from torch import nn, optim\n",
    "import torch.nn.functional as F\n",
    "\n",
    "class Classifier_Dropout(nn.Module):\n",
    "    def __init__(self):\n",
    "        super().__init__()\n",
    "        self.fc1 = nn.Linear(784, 256)\n",
    "        self.fc2 = nn.Linear(256, 128)\n",
    "        self.fc3 = nn.Linear(128, 64)\n",
    "        self.fc4 = nn.Linear(64, 10)\n",
    "        \n",
    "        # Dropout with the probability of 20%\n",
    "        self.dropout = nn.Dropout(p =0.2)\n",
    "        \n",
    "    def forward(self, x):\n",
    "        # Flatten input tensor\n",
    "        x = x.view(x.shape[0], -1)\n",
    "        \n",
    "        # Added dropout in the forward pass for the inputs at each layer except the output layer \n",
    "        # as we want all outputs active\n",
    "        x = self.dropout(F.relu(self.fc1(x)))\n",
    "        x = self.dropout(F.relu(self.fc2(x)))\n",
    "        x = self.dropout(F.relu(self.fc3(x)))\n",
    "        x = F.log_softmax(self.fc4(x), dim=1)\n",
    "        \n",
    "        return x"
   ]
  },
  {
   "cell_type": "code",
   "execution_count": 18,
   "metadata": {
    "scrolled": false
   },
   "outputs": [
    {
     "name": "stdout",
     "output_type": "stream",
     "text": [
      "Epoch 1/30..  Training Loss: 0.608..  Test Loss: 0.459..  Test Accuracy: 0.833\n",
      "Epoch 2/30..  Training Loss: 0.482..  Test Loss: 0.438..  Test Accuracy: 0.838\n",
      "Epoch 3/30..  Training Loss: 0.448..  Test Loss: 0.426..  Test Accuracy: 0.847\n",
      "Epoch 4/30..  Training Loss: 0.437..  Test Loss: 0.406..  Test Accuracy: 0.854\n",
      "Epoch 5/30..  Training Loss: 0.424..  Test Loss: 0.418..  Test Accuracy: 0.849\n",
      "Epoch 6/30..  Training Loss: 0.413..  Test Loss: 0.405..  Test Accuracy: 0.856\n",
      "Epoch 7/30..  Training Loss: 0.408..  Test Loss: 0.390..  Test Accuracy: 0.861\n",
      "Epoch 8/30..  Training Loss: 0.402..  Test Loss: 0.389..  Test Accuracy: 0.864\n",
      "Epoch 9/30..  Training Loss: 0.393..  Test Loss: 0.389..  Test Accuracy: 0.864\n",
      "Epoch 10/30..  Training Loss: 0.392..  Test Loss: 0.376..  Test Accuracy: 0.867\n",
      "Epoch 11/30..  Training Loss: 0.379..  Test Loss: 0.376..  Test Accuracy: 0.869\n",
      "Epoch 12/30..  Training Loss: 0.383..  Test Loss: 0.380..  Test Accuracy: 0.865\n",
      "Epoch 13/30..  Training Loss: 0.377..  Test Loss: 0.397..  Test Accuracy: 0.858\n",
      "Epoch 14/30..  Training Loss: 0.377..  Test Loss: 0.389..  Test Accuracy: 0.868\n",
      "Epoch 15/30..  Training Loss: 0.375..  Test Loss: 0.398..  Test Accuracy: 0.863\n",
      "Epoch 16/30..  Training Loss: 0.367..  Test Loss: 0.374..  Test Accuracy: 0.868\n",
      "Epoch 17/30..  Training Loss: 0.365..  Test Loss: 0.383..  Test Accuracy: 0.866\n",
      "Epoch 18/30..  Training Loss: 0.365..  Test Loss: 0.392..  Test Accuracy: 0.860\n",
      "Epoch 19/30..  Training Loss: 0.367..  Test Loss: 0.371..  Test Accuracy: 0.877\n",
      "Epoch 20/30..  Training Loss: 0.358..  Test Loss: 0.385..  Test Accuracy: 0.866\n",
      "Epoch 21/30..  Training Loss: 0.355..  Test Loss: 0.376..  Test Accuracy: 0.870\n",
      "Epoch 22/30..  Training Loss: 0.351..  Test Loss: 0.369..  Test Accuracy: 0.877\n",
      "Epoch 23/30..  Training Loss: 0.361..  Test Loss: 0.373..  Test Accuracy: 0.870\n",
      "Epoch 24/30..  Training Loss: 0.349..  Test Loss: 0.383..  Test Accuracy: 0.867\n",
      "Epoch 25/30..  Training Loss: 0.353..  Test Loss: 0.366..  Test Accuracy: 0.875\n",
      "Epoch 26/30..  Training Loss: 0.347..  Test Loss: 0.373..  Test Accuracy: 0.868\n",
      "Epoch 27/30..  Training Loss: 0.347..  Test Loss: 0.391..  Test Accuracy: 0.865\n",
      "Epoch 28/30..  Training Loss: 0.358..  Test Loss: 0.403..  Test Accuracy: 0.862\n",
      "Epoch 29/30..  Training Loss: 0.335..  Test Loss: 0.371..  Test Accuracy: 0.876\n",
      "Epoch 30/30..  Training Loss: 0.340..  Test Loss: 0.369..  Test Accuracy: 0.874\n"
     ]
    }
   ],
   "source": [
    "## TODO: Train your model with dropout, and monitor the training progress with the validation loss and accuracy\n",
    "model_dropout = Classifier_Dropout()\n",
    "criterion = nn.NLLLoss()\n",
    "optimiser = optim.Adam(model_dropout.parameters(), lr = 0.003)\n",
    "epochs = 30\n",
    "steps = 0\n",
    "\n",
    "training_losses, testing_losses = [], []\n",
    "\n",
    "for e in range(epochs):\n",
    "    training_loss = 0\n",
    "    \n",
    "    # Training Passes\n",
    "    for images, labels in trainloader:\n",
    "        optimiser.zero_grad()\n",
    "        log_ps  = model_dropout(images)\n",
    "        loss = criterion(log_ps, labels)\n",
    "        loss.backward()\n",
    "        optimiser.step()\n",
    "        training_loss += loss.item()\n",
    "    \n",
    "    # Testing Pass\n",
    "    else:\n",
    "        testing_loss = 0\n",
    "        accuracy = 0\n",
    "        # Turn off gradients calculations\n",
    "        with torch.no_grad():\n",
    "            # Set the model to evaluation mode for validation. Dropout is turned off.\n",
    "            model_dropout.eval()\n",
    "            \n",
    "            for images, labels in testloader:\n",
    "                test_log_ps = model_dropout(images)\n",
    "                testing_loss += criterion(test_log_ps, labels)\n",
    "                ps = torch.exp(test_log_ps)\n",
    "                top_p, top_class = ps.topk(1, dim=1)\n",
    "                equals = top_class == labels.view(*top_class.shape)\n",
    "                accuracy += torch.mean(equals.type(torch.FloatTensor))\n",
    "        \n",
    "        training_losses.append(training_loss/len(trainloader))\n",
    "        testing_losses.append(testing_loss/len(testloader))\n",
    "        \n",
    "        print(\"Epoch {}/{}.. \".format(e+1, epochs),\n",
    "             \"Training Loss: {:.3f}.. \".format(training_loss/len(trainloader)),\n",
    "             \"Test Loss: {:.3f}.. \".format(testing_loss/len(testloader)),\n",
    "             \"Test Accuracy: {:.3f}\".format(accuracy/len(testloader)))\n",
    "        \n",
    "        # After you're done with evaluating the model against a testing set, set the model back to training mode\n",
    "        # Training mode turns on the dropout.\n",
    "        model_dropout.train()"
   ]
  },
  {
   "cell_type": "code",
   "execution_count": 21,
   "metadata": {
    "scrolled": false
   },
   "outputs": [
    {
     "data": {
      "image/png": "[encoded data removed]",
      "text/plain": [
       "<matplotlib.figure.Figure at 0x7f6f99e60d68>"
      ]
     },
     "metadata": {
      "needs_background": "light"
     },
     "output_type": "display_data"
    }
   ],
   "source": [
    "def plotter(x, y):\n",
    "    plt.plot(x, label = \"Training Loss\")\n",
    "    plt.plot(y, label = \"Validation Loss\")\n",
    "    plt.ylim(0.1, 0.7)\n",
    "    plt.xlabel(\"Epochs\")\n",
    "    plt.ylabel(\"Performance\")\n",
    "    plt.legend(frameon= False);\n",
    "    \n",
    "plt.figure(figsize = (15, 5))\n",
    "plt.subplot(1, 2, 1)\n",
    "plotter(train_losses, test_losses)\n",
    "plt.title(\"Model Performance without Dropout\")\n",
    "\n",
    "plt.subplot(1,2,2)\n",
    "plotter(training_losses, testing_losses)\n",
    "plt.title(\"Model Performance With Dropout\");"
   ]
  },
  {
   "cell_type": "markdown",
   "metadata": {},
   "source": [
    "#### Conclusion:\n",
    "- The first model is overfitted to the training set but does not perform well on the validation set.\n",
    "- The second model which is implemented with a dropout of 20%, is performing well on both the training and validation sets but at higher loss overall. Perhaps, with better network architecture, learning rate or by implementing early-stopping and/or momentum, the loss can be reduced further."
   ]
  },
  {
   "cell_type": "markdown",
   "metadata": {},
   "source": [
    "## Inference\n",
    "\n",
    "Now that the model is trained, we can use it for inference. We've done this before, but now we need to remember to set the model in inference mode with `model.eval()`. You'll also want to turn off autograd with the `torch.no_grad()` context."
   ]
  },
  {
   "cell_type": "markdown",
   "metadata": {},
   "source": [
    "### Inference in a trained model without the implemented dropout (overfitting might be present)"
   ]
  },
  {
   "cell_type": "code",
   "execution_count": 93,
   "metadata": {},
   "outputs": [
    {
     "data": {
      "image/png": "[encoded data removed]",
      "text/plain": [
       "<matplotlib.figure.Figure at 0x7f525c36c518>"
      ]
     },
     "metadata": {
      "needs_background": "light"
     },
     "output_type": "display_data"
    }
   ],
   "source": [
    "# Import helper module (should be in the repo)\n",
    "import helper\n",
    "\n",
    "# Test out your network!\n",
    "\n",
    "dataiter = iter(testloader)\n",
    "images, labels = dataiter.next()\n",
    "img = images[0]\n",
    "# Convert 2D image to 1D vector\n",
    "img = img.view(1, 784)\n",
    "\n",
    "# Calculate the class probabilities (softmax) for img\n",
    "with torch.no_grad():\n",
    "    output = model.forward(img)\n",
    "\n",
    "ps = torch.exp(output)\n",
    "\n",
    "# Plot the image and probabilities\n",
    "helper.view_classify(img.view(1, 28, 28), ps, version='Fashion')"
   ]
  },
  {
   "cell_type": "markdown",
   "metadata": {},
   "source": [
    "### Inference in a trained model with the implemented dropout (Reduced chance of overfitting)"
   ]
  },
  {
   "cell_type": "code",
   "execution_count": 97,
   "metadata": {},
   "outputs": [
    {
     "data": {
      "image/png": "[encoded data removed]",
      "text/plain": [
       "<matplotlib.figure.Figure at 0x7f525c522518>"
      ]
     },
     "metadata": {
      "needs_background": "light"
     },
     "output_type": "display_data"
    }
   ],
   "source": [
    "# Import helper module (should be in the repo)\n",
    "import helper\n",
    "\n",
    "# Test out your network!\n",
    "\n",
    "model_dropout.eval()\n",
    "\n",
    "dataiter = iter(testloader)\n",
    "images, labels = dataiter.next()\n",
    "img = images[0]\n",
    "# Convert 2D image to 1D vector\n",
    "img = img.view(1, 784)\n",
    "\n",
    "# Calculate the class probabilities (softmax) for img\n",
    "with torch.no_grad():\n",
    "    output = model_dropout.forward(img)\n",
    "\n",
    "ps = torch.exp(output)\n",
    "\n",
    "# Plot the image and probabilities\n",
    "helper.view_classify(img.view(1, 28, 28), ps, version='Fashion')"
   ]
  },
  {
   "cell_type": "markdown",
   "metadata": {},
   "source": [
    "## Next Up!\n",
    "\n",
    "In the next part, I'll show you how to save your trained models. In general, you won't want to train a model everytime you need it. Instead, you'll train once, save it, then load the model when you want to train more or use if for inference."
   ]
  }
 ],
 "metadata": {
  "kernelspec": {
   "display_name": "Python 3",
   "language": "python",
   "name": "python3"
  },
  "language_info": {
   "codemirror_mode": {
    "name": "ipython",
    "version": 3
   },
   "file_extension": ".py",
   "mimetype": "text/x-python",
   "name": "python",
   "nbconvert_exporter": "python",
   "pygments_lexer": "ipython3",
   "version": "3.6.3"
  }
 },
 "nbformat": 4,
 "nbformat_minor": 2
}
