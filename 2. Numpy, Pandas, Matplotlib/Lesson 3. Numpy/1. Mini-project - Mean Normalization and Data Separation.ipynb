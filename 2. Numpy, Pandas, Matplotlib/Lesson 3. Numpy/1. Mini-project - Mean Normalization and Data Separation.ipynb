{
 "cells": [
  {
   "cell_type": "markdown",
   "metadata": {},
   "source": [
    "# Mean Normalization\n",
    "\n",
    "In machine learning we use large amounts of data to train our models. Some machine learning algorithms may require that the data is *normalized* in order to work correctly. The idea of normalization, also known as *feature scaling*, is to ensure that all the data is on a similar scale, *i.e.* that all the data takes on a similar range of values. For example, we might have a dataset that has values between 0 and 5,000. By normalizing the data we can make the range of values be between 0 and 1.\n",
    "\n",
    "In this lab, you will be performing a different kind of feature scaling known as *mean normalization*. Mean normalization will scale the data, but instead of making the values be between 0 and 1, it will distribute the values evenly in some small interval around zero. For example, if we have a dataset that has values between 0 and 5,000, after mean normalization the range of values will be distributed in some small range around 0, for example between -3 to 3. Because the range of values are distributed evenly around zero, this guarantees that the average (mean) of all elements will be zero. Therefore, when you perform *mean normalization* your data will not only be scaled but it will also have an average of zero. \n",
    "\n",
    "# To Do:\n",
    "\n",
    "You will start by importing NumPy and creating a rank 2 ndarray of random integers between 0 and 5,000 (inclusive) with 1000 rows and 20 columns. This array will simulate a dataset with a wide range of values. Fill in the code below"
   ]
  },
  {
   "cell_type": "code",
   "execution_count": 2,
   "metadata": {},
   "outputs": [
    {
     "name": "stdout",
     "output_type": "stream",
     "text": [
      "[[2966 3214 4527 ..., 3728 1078 4880]\n",
      " [4194 1322 3140 ..., 4127 2185 4399]\n",
      " [3276 3382 3741 ...,   25 3570 4896]\n",
      " ..., \n",
      " [ 659 2093 3901 ..., 2732 1696 1927]\n",
      " [ 795  386 1141 ..., 1063 2414 3161]\n",
      " [2655 2243 1526 ..., 2098 1878 1392]]\n",
      "(1000, 20)\n"
     ]
    }
   ],
   "source": [
    "# import NumPy into Python\n",
    "import numpy as np\n",
    "\n",
    "# Create a 1000 x 20 ndarray with random integers in the half-open interval [0, 5001).\n",
    "X = np.random.randint(0, 5001, (1000, 20))\n",
    "\n",
    "# print the shape of X\n",
    "print(X)\n",
    "print(X.shape)\n"
   ]
  },
  {
   "cell_type": "markdown",
   "metadata": {},
   "source": [
    "Now that you created the array we will mean normalize it. We will perform mean normalization using the following equation:\n",
    "\n",
    "$\\mbox{Norm_Col}_i = \\frac{\\mbox{Col}_i - \\mu_i}{\\sigma_i}$\n",
    "\n",
    "where $\\mbox{Col}_i$ is the $i$th column of $X$, $\\mu_i$ is average of the values in the $i$th column of $X$, and $\\sigma_i$ is the standard deviation of the values in the $i$th column of $X$. In other words, mean normalization is performed by subtracting from each column of $X$ the average of its values, and then by dividing by the standard deviation of its values. In the space below, you will first calculate the average and standard deviation of each column of $X$. "
   ]
  },
  {
   "cell_type": "code",
   "execution_count": 3,
   "metadata": {
    "scrolled": true
   },
   "outputs": [
    {
     "name": "stdout",
     "output_type": "stream",
     "text": [
      "[ 2598.032  2434.8    2506.782  2508.648  2534.379  2502.676  2464.7\n",
      "  2475.877  2462.315  2527.378  2503.342  2522.908  2535.202  2492.342\n",
      "  2526.258  2586.509  2564.443  2516.672  2459.702  2543.8  ]\n",
      "[ 1410.43493823  1404.48729008  1455.58162137  1445.65279099  1473.17773923\n",
      "  1403.29053906  1433.2068469   1459.43735044  1421.88968763  1480.24260347\n",
      "  1440.42310001  1464.31678661  1414.31948343  1420.93793567  1460.2216008\n",
      "  1465.4320523   1453.88281741  1433.11013199  1471.94522017  1429.0728225 ]\n",
      "(1000, 20)\n",
      "(20,)\n",
      "[ 1410.43493823  1404.48729008  1455.58162137  1445.65279099  1473.17773923\n",
      "  1403.29053906  1433.2068469   1459.43735044  1421.88968763  1480.24260347\n",
      "  1440.42310001  1464.31678661  1414.31948343  1420.93793567  1460.2216008\n",
      "  1465.4320523   1453.88281741  1433.11013199  1471.94522017  1429.0728225 ]\n",
      "[ 1410.43493823  1404.48729008  1455.58162137  1445.65279099  1473.17773923\n",
      "  1403.29053906  1433.2068469   1459.43735044  1421.88968763  1480.24260347\n",
      "  1440.42310001  1464.31678661  1414.31948343  1420.93793567  1460.2216008\n",
      "  1465.4320523   1453.88281741  1433.11013199  1471.94522017  1429.0728225 ]\n"
     ]
    }
   ],
   "source": [
    "# Average of the values in each column of X\n",
    "ave_cols = np.mean(X, 0)\n",
    "print(ave_cols)\n",
    "\n",
    "\n",
    "# Standard Deviation of the values in each column of X\n",
    "std_cols = np.std(X, 0)\n",
    "print(std_cols)\n",
    "\n",
    "# Calculating std of each column without using the built-in functions\n",
    "test_var_cols = (X - ave_cols)**2\n",
    "print(test_var_cols.shape)\n",
    "test_std_cols = np.sqrt(test_var_cols.sum(axis = 0)/np.size(X, 0))\n",
    "print(test_std_cols.shape)\n",
    "\n",
    "\n",
    "print(std_cols)\n",
    "print(test_std_cols)\n"
   ]
  },
  {
   "cell_type": "markdown",
   "metadata": {},
   "source": [
    "If you have done the above calculations correctly, then `ave_cols` and `std_cols`, should both be vectors with shape `(20,)` since $X$ has 20 columns. You can verify this by filling the code below:"
   ]
  },
  {
   "cell_type": "code",
   "execution_count": 4,
   "metadata": {},
   "outputs": [
    {
     "name": "stdout",
     "output_type": "stream",
     "text": [
      "(20,)\n",
      "(20,)\n"
     ]
    }
   ],
   "source": [
    "# Print the shape of ave_cols\n",
    "print(ave_cols.shape)\n",
    "\n",
    "# Print the shape of std_cols\n",
    "print(std_cols.shape)"
   ]
  },
  {
   "cell_type": "markdown",
   "metadata": {},
   "source": [
    "You can now take advantage of Broadcasting to calculate the mean normalized version of $X$ in just one line of code using the equation above. Fill in the code below"
   ]
  },
  {
   "cell_type": "code",
   "execution_count": 11,
   "metadata": {},
   "outputs": [
    {
     "name": "stdout",
     "output_type": "stream",
     "text": [
      "[[ 0.26088974  0.5547932   1.38791118 ...,  0.84524418 -0.93869118\n",
      "   1.63476624]\n",
      " [ 1.13154316 -0.7923176   0.43502748 ...,  1.12365963 -0.18662515\n",
      "   1.29818437]\n",
      " [ 0.48068009  0.67440981  0.84792085 ..., -1.73864656  0.7543066\n",
      "   1.64596231]\n",
      " ..., \n",
      " [-1.37477593 -0.24336283  0.95784254 ...,  0.15025223 -0.5188386\n",
      "  -0.43160852]\n",
      " [-1.27835177 -1.45875297 -0.93830671 ..., -1.01434772 -0.03104871\n",
      "   0.43188842]\n",
      " [ 0.04039038 -0.13656229 -0.67380763 ..., -0.29214224 -0.3951927\n",
      "  -0.80597712]]\n",
      "(1000, 20)\n"
     ]
    }
   ],
   "source": [
    "# Mean normalize X\n",
    "X_norm = (X - ave_cols) / std_cols\n",
    "print(X_norm)\n",
    "print(X_norm.shape)"
   ]
  },
  {
   "cell_type": "markdown",
   "metadata": {},
   "source": [
    "If you have performed the mean normalization correctly, then the average of all the elements in $X_{\\tiny{\\mbox{norm}}}$ should be close to zero, and they should be evenly distributed in some small interval around zero. You can verify this by filing the code below:"
   ]
  },
  {
   "cell_type": "code",
   "execution_count": 12,
   "metadata": {},
   "outputs": [
    {
     "name": "stdout",
     "output_type": "stream",
     "text": [
      "Average of all values of X_Norm is:  -4.19220214098e-17\n",
      "\n",
      "Average of the minimum value in each of column of X_Norm is:\n",
      "\n",
      " [-1.83704468 -1.73287435 -1.71256765 -1.73461291 -1.71966962 -1.77844568\n",
      " -1.71901216 -1.69097838 -1.72539053 -1.70605683 -1.73653283 -1.722925\n",
      " -1.79252427 -1.75190058 -1.71703939 -1.7575083  -1.76248248 -1.75609114\n",
      " -1.66969665 -1.77723623]\n",
      "\n",
      "Average of the minimum value in each of column of X_Norm is: \n",
      "\n",
      " [ 1.70228908  1.82571962  1.71218018  1.72126531  1.66824473  1.77819484\n",
      "  1.75920175  1.72198073  1.77769416  1.66906559  1.73050404  1.69163669\n",
      "  1.74133075  1.74578913  1.69203222  1.64558363  1.67245735  1.73212647\n",
      "  1.72581015  1.70963996]\n"
     ]
    }
   ],
   "source": [
    "# Print the average of all the values of X_norm\n",
    "print(\"Average of all values of X_Norm is: \", np.mean(X_norm))\n",
    "\n",
    "# Print the average of the minimum value in each column of X_norm\n",
    "print(\"\\nAverage of the minimum value in each of column of X_Norm is:\\n\\n\", np.min(X_norm, axis = 0))\n",
    "\n",
    "# Print the average of the maximum value in each column of X_norm\n",
    "print(\"\\nAverage of the minimum value in each of column of X_Norm is: \\n\\n\", np.max(X_norm, axis = 0))\n"
   ]
  },
  {
   "cell_type": "markdown",
   "metadata": {},
   "source": [
    "You should note that since $X$ was created using random integers, the above values will vary. \n",
    "\n",
    "# Data Separation\n",
    "\n",
    "After the data has been mean normalized, it is customary in machine learnig to split our dataset into three sets:\n",
    "\n",
    "1. A Training Set\n",
    "2. A Cross Validation Set\n",
    "3. A Test Set\n",
    "\n",
    "The dataset is usually divided such that the Training Set contains 60% of the data, the Cross Validation Set contains 20% of the data, and the Test Set contains 20% of the data. \n",
    "\n",
    "In this part of the lab you will separate `X_norm` into a Training Set, Cross Validation Set, and a Test Set. Each data set will contain rows of `X_norm` chosen at random, making sure that we don't pick the same row twice. This will guarantee that all the rows of `X_norm` are chosen and randomly distributed among the three new sets.\n",
    "\n",
    "You will start by creating a rank 1 ndarray that contains a random permutation of the row indices of `X_norm`. You can do this by using the `np.random.permutation()` function. The `np.random.permutation(N)` function creates a random permutation of integers from 0 to `N - 1`. Let's see an example:"
   ]
  },
  {
   "cell_type": "code",
   "execution_count": 20,
   "metadata": {},
   "outputs": [
    {
     "name": "stdout",
     "output_type": "stream",
     "text": [
      "[2 1 3 0]\n"
     ]
    }
   ],
   "source": [
    "# We create a random permutation of integers 0 to 4\n",
    "print(np.random.permutation(4))"
   ]
  },
  {
   "cell_type": "markdown",
   "metadata": {},
   "source": [
    "# To Do\n",
    "\n",
    "In the space below create a rank 1 ndarray that contains a random permutation of the row indices of `X_norm`. You can do this in one line of code by extracting the number of rows of `X_norm` using the `shape` attribute and then passing it to the  `np.random.permutation()` function. Remember the `shape` attribute returns a tuple with two numbers in the form `(rows,columns)`."
   ]
  },
  {
   "cell_type": "code",
   "execution_count": 24,
   "metadata": {},
   "outputs": [
    {
     "name": "stdout",
     "output_type": "stream",
     "text": [
      "[221 795 125 660 226 393  18 831 765 729 561 932 473 413 688 726 818 495\n",
      " 725 627 958 617 779 528  40   0  59  14 346 500 423 131 638 946 123 680\n",
      " 338 107 984 166 153 991 168 364  97 515 333 944 672 649 564 199  76 821\n",
      "  56 728 462 334 629 710 784 863 523 896 456 219 650 195 707 611 349 792\n",
      " 269 622 912 143 183  23 937 492 922 845 738 297 190 664 979 982 897 458\n",
      " 115 363 978 435 708 196  24  19 488 776  55 111 949 552 625 573 527 141\n",
      " 400 409 130 628 626 245 762 754 534 231 449  89 700 877 158 933 309 197\n",
      " 960 351 833 235 544 401 116 467 211 732 670 129 229 684 493 137 160 685\n",
      " 271  93 641 696 117 653 540 669 526 175 580 993  58 433  25 279 159 683\n",
      " 882 579 938 862 519 760 308 714 963 213  22 427  52 555 899 794 135 667\n",
      " 915 328 292 781 832 743 498 973 652 212 172 698 706 624  83  82   8 266\n",
      " 136   3 890 596 908 891 246 441 412 100 919 876 799 395 479 797 414 695\n",
      " 787 502 945 847 640 553 609 578 494 391 264 284 234 850 359 769 403 969\n",
      " 619 620 804 282 868 202 737 167 970 113 312 201  71 521 886 291 777 443\n",
      " 733 389 444 145 484 910 260 537 750 375 803 186 637 434 372 826 343 174\n",
      "  99 169 311 636 594 220 331 207 384 508 112 675 342 789 274 992 262 828\n",
      " 687 643 807 430 378 463 426 703 459 361 163 844 616 621 988 206 697 450\n",
      " 182   2 911 511 237 959 240 837 673 878 485 103 839 989 663 780 366 545\n",
      " 295  85 892 731 249 110 344 425  35  15 565 965 614 558 927 482 121 339\n",
      " 976 857  80 411 162 374 644 530 782 704 793 834 942 253 966 739  11  48\n",
      " 310 775 860 440 509 689 179 146 230 721  92 293 606 986  13 437 248 936\n",
      " 298 189 615 655 317 191  45 466 771 871  34  57 956 250 451 247 716 306\n",
      " 802 603 852 693 268  41 590 460  46 815 694 981 623 610 873 397 888 358\n",
      " 105   6 559  39 539 422 102 608 939  62 851 824 290 819  28 209 830 490\n",
      " 204 674 928  49 586 840 439  53 893 314 139 124 842 150 148  44  61 741\n",
      " 934 900 722   5 332 605 267 461 866 321 634 489 214 353 157 241 304  20\n",
      " 362 272 507 974 323 889 487 843 736 431  50 686 724 216 715 583 749 532\n",
      " 514 453 481 376 501 217 273  64 604 778 907 535 909 823 916 319 712 307\n",
      " 825 194 858 533 630 657 864 156 748 181 801 255 651 165  65 957 101 953\n",
      " 525 576 198 774 133 355 556  43 210 138 288 836 522 252 106 258 510 848\n",
      " 227 178  90 574 921 257 975 164 577  87 424 923 399 763  69 880 595 305\n",
      " 917 238 662 518 180 913 967 666 504 727 385 380 188 962 925 155 223 208\n",
      " 193 480 838 884 436 642 994 602 108 132 584 303 701 566 875 289 947 506\n",
      " 567 122  79 524 861 147 720 812 671 438 570 134 551 791 999 589 286 261\n",
      " 571 816 940  30 243 935 569 296 232 717 478 149 904 337 809 756 369  42\n",
      " 678 747 990 613 497 538  91  27 152 233 661 690 142  38 387 114 350 550\n",
      " 215 316 325  12  77 446 448 954 677 788  66 432 822 898 798 417 758 418\n",
      " 299 711 118 225 224 744 470 428 593 315 360 474 735 161 585 918 813 883\n",
      "   4 879 228 855 723 548 786 543 345 529 829 709 410 676  51 256 931 581\n",
      " 373  36 805 906 352 783 601 971 318  47 354 881 746 955 320  74 730 665\n",
      " 961 867  84 998 244 772 177 367 770 796 560 383 987 377 126 920 681 885\n",
      " 144 302 865 790  96 259  63 859 270 568 542 547 335  29 322 914 930 496\n",
      " 755 386  86  33 185 324 283 874 503 330 408 699 811 236 977 170 356 140\n",
      " 454 420 379 406 200 151 587 948  60 176 465 654  16 853 251 806 631 639\n",
      " 612 109 648 943 751 205 753 429 588 263 679 869 222 347 447 800 445 203\n",
      " 849 761 457 562 563 313 887 327   1 827 516 388 817 104 281 280 599  17\n",
      "  78 894 929 995 582  26 491 668 265 278 381 404 390 517 659 924 505  72\n",
      " 471 486 607 275 326 835 895 658 340  37 997 499 407 759 218 341 926  73\n",
      " 536 476 512 820  68 968 702 682 572 464 705 600 691 192 382 713 365 277\n",
      " 520 468 980 285  95 475 591 415 856  94 557 421 635 734 592 541  98 419\n",
      " 477 348 996 336 394   9 768 814 154 646 846 597 952 645 128 656  67 549\n",
      " 171 184 941 416 745 692 766 370 187 483 575 810 513 951 903 472 983  10\n",
      " 950 120 300 452 242 854  21 964 127 752 985 287 718 633 402 294 785 618\n",
      " 972 442 773 371 808 767 901 357 902 554   7 632  75 329 531 398 173 757\n",
      " 239 841 119  81 598 719  70 301  32  54 392 276 469 764 254 368 647 872\n",
      " 546  88 870 742 740 405  31 905 396 455]\n"
     ]
    }
   ],
   "source": [
    "# Create a rank 1 ndarray that contains a random permutation of the row indices of `X_norm`\n",
    "row_indices = np.random.permutation(X_norm.shape[0])\n",
    "print(row_indices)"
   ]
  },
  {
   "cell_type": "markdown",
   "metadata": {},
   "source": [
    "Now you can create the three datasets using the `row_indices` ndarray to select the rows that will go into each dataset. Rememeber that the Training Set contains 60% of the data, the Cross Validation Set contains 20% of the data, and the Test Set contains 20% of the data. Each set requires just one line of code to create. Fill in the code below"
   ]
  },
  {
   "cell_type": "code",
   "execution_count": 51,
   "metadata": {},
   "outputs": [
    {
     "name": "stdout",
     "output_type": "stream",
     "text": [
      "[[4425 1762   25 3317 4899 1070 2323 4640 2866 1896 4117 1520 2621 2541\n",
      "  2186 4104 2591   79 3067 2827]\n",
      " [1363  580 2406 4628 4279 1481   21 4216  380  361  540  801 4939 1582\n",
      "  2485 4906  281 1861 1356 3849]] \n",
      "\n",
      "[[4425 1762   25 3317 4899 1070 2323 4640 2866 1896 4117 1520 2621 2541\n",
      "  2186 4104 2591   79 3067 2827]\n",
      " [1363  580 2406 4628 4279 1481   21 4216  380  361  540  801 4939 1582\n",
      "  2485 4906  281 1861 1356 3849]]\n"
     ]
    }
   ],
   "source": [
    "# Make any necessary calculations.\n",
    "# You can save your calculations into variables to use later.\n",
    "\n",
    "\n",
    "# Create a Training Set (60% of data)\n",
    "X_train = X[row_indices[:600]]\n",
    "\n",
    "# Create a Cross Validation Set (20% of data)\n",
    "X_crossVal = X[row_indices[600:800]]\n",
    "\n",
    "# Create a Test Set (20% of data)\n",
    "X_test = X[row_indices[800:]]\n",
    "\n",
    "print(X[row_indices[0:2]], \"\\n\")\n",
    "print(X[[221, 795]])"
   ]
  },
  {
   "cell_type": "markdown",
   "metadata": {},
   "source": [
    "If you performed the above calculations correctly, then `X_tain` should have 600 rows and 20 columns, `X_crossVal` should have 200 rows and 20 columns, and `X_test` should have 200 rows and 20 columns. You can verify this by filling the code below:"
   ]
  },
  {
   "cell_type": "code",
   "execution_count": 27,
   "metadata": {},
   "outputs": [
    {
     "name": "stdout",
     "output_type": "stream",
     "text": [
      "(600, 20)\n",
      "(200, 20)\n",
      "(200, 20)\n"
     ]
    }
   ],
   "source": [
    "# Print the shape of X_train\n",
    "print(X_train.shape)\n",
    "\n",
    "# Print the shape of X_crossVal\n",
    "print(X_crossVal.shape)\n",
    "\n",
    "# Print the shape of X_test\n",
    "print(X_test.shape)"
   ]
  },
  {
   "cell_type": "markdown",
   "metadata": {},
   "source": [
    "# Playground"
   ]
  },
  {
   "cell_type": "code",
   "execution_count": 33,
   "metadata": {
    "scrolled": true
   },
   "outputs": [
    {
     "name": "stdout",
     "output_type": "stream",
     "text": [
      "[[ 1  2  3  4  5]\n",
      " [ 6  7  8  9 10]\n",
      " [11 12 13 14 15]\n",
      " [16 17 18 19 20]]\n",
      "[  8.5   9.5  10.5  11.5  12.5]\n",
      "20\n",
      "[[ 1.67705098  1.67705098  1.67705098  1.67705098  1.67705098]\n",
      " [ 0.55901699  0.55901699  0.55901699  0.55901699  0.55901699]\n",
      " [ 0.55901699  0.55901699  0.55901699  0.55901699  0.55901699]\n",
      " [ 1.67705098  1.67705098  1.67705098  1.67705098  1.67705098]]\n"
     ]
    }
   ],
   "source": [
    "test = np.arange(1, 21).reshape((4,5))\n",
    "print(test)\n",
    "\n",
    "mean = np.mean(test, axis = 0)\n",
    "print(mean)\n",
    "print(np.size(test))\n",
    "\n",
    "print(np.sqrt((mean - test)**2 / np.size(test)))"
   ]
  },
  {
   "cell_type": "code",
   "execution_count": 48,
   "metadata": {},
   "outputs": [
    {
     "name": "stdout",
     "output_type": "stream",
     "text": [
      "[[ 1  2  3  4  5]\n",
      " [ 6  7  8  9 10]\n",
      " [11 12 13 14 15]\n",
      " [16 17 18 19 20]]\n"
     ]
    }
   ],
   "source": [
    "test_matrix = np.arange(1, 21).reshape((4,5))\n",
    "print(test_matrix)"
   ]
  },
  {
   "cell_type": "code",
   "execution_count": 50,
   "metadata": {},
   "outputs": [
    {
     "name": "stdout",
     "output_type": "stream",
     "text": [
      "[1 2 3 4 5]\n"
     ]
    }
   ],
   "source": [
    "add_matrix = np.arange(1,6)\n",
    "print(add_matrix)"
   ]
  },
  {
   "cell_type": "code",
   "execution_count": 52,
   "metadata": {},
   "outputs": [
    {
     "name": "stdout",
     "output_type": "stream",
     "text": [
      "[[ 2  4  6  8 10]\n",
      " [ 7  9 11 13 15]\n",
      " [12 14 16 18 20]\n",
      " [17 19 21 23 25]]\n"
     ]
    }
   ],
   "source": [
    "# Broadcasting an array by addition alongside the 2 Dimensional array\n",
    "test_result = test_matrix + add_matrix\n",
    "print(test_result)"
   ]
  },
  {
   "cell_type": "code",
   "execution_count": 54,
   "metadata": {
    "scrolled": true
   },
   "outputs": [
    {
     "name": "stdout",
     "output_type": "stream",
     "text": [
      "[[ 2  4  6  8 10]\n",
      " [ 7  9 11 13 15]\n",
      " [ 1  2  3  4  5]\n",
      " [12 14 16 18 20]\n",
      " [17 19 21 23 25]]\n"
     ]
    }
   ],
   "source": [
    "# Inserting an array in between the rows of another array\n",
    "test_insert = np.insert(test_result, 2 , add_matrix, axis = 0)\n",
    "print(test_insert)"
   ]
  },
  {
   "cell_type": "code",
   "execution_count": 79,
   "metadata": {
    "scrolled": true
   },
   "outputs": [
    {
     "name": "stdout",
     "output_type": "stream",
     "text": [
      "[17 19 21 23 25]\n"
     ]
    }
   ],
   "source": [
    "# finding the maximum value of each column\n",
    "test_insert_max_col = np.max(test_insert, axis =0)\n",
    "print(test_insert_max_col)"
   ]
  },
  {
   "cell_type": "code",
   "execution_count": 80,
   "metadata": {
    "scrolled": true
   },
   "outputs": [
    {
     "name": "stdout",
     "output_type": "stream",
     "text": [
      "[1 2 3 4 5]\n"
     ]
    }
   ],
   "source": [
    "# finding the minimum value of each column\n",
    "test_insert_max_col = np.min(test_insert, axis =0)\n",
    "print(test_insert_max_col)"
   ]
  },
  {
   "cell_type": "code",
   "execution_count": 61,
   "metadata": {},
   "outputs": [
    {
     "name": "stdout",
     "output_type": "stream",
     "text": [
      "[[[1 2]\n",
      "  [3 4]\n",
      "  [5 6]]\n",
      "\n",
      " [[1 2]\n",
      "  [3 4]\n",
      "  [5 6]]]\n"
     ]
    }
   ],
   "source": [
    "# A Matrix with 3 Dimensions\n",
    "test_matrx = np.array([[[1,2],[3,4],[5,6]],[[1,2],[3,4],[5,6]]])\n",
    "print(test_matrx)"
   ]
  },
  {
   "cell_type": "code",
   "execution_count": 62,
   "metadata": {},
   "outputs": [
    {
     "data": {
      "text/plain": [
       "array([[[2, 4],\n",
       "        [4, 6],\n",
       "        [6, 8]],\n",
       "\n",
       "       [[2, 4],\n",
       "        [4, 6],\n",
       "        [6, 8]]])"
      ]
     },
     "execution_count": 62,
     "metadata": {},
     "output_type": "execute_result"
    }
   ],
   "source": [
    "# Broadcasting an array alongside the 3 dimensional matrix\n",
    "test_matrx + [1,2]"
   ]
  },
  {
   "cell_type": "code",
   "execution_count": null,
   "metadata": {},
   "outputs": [],
   "source": []
  }
 ],
 "metadata": {
  "kernelspec": {
   "display_name": "Python 3",
   "language": "python",
   "name": "python3"
  },
  "language_info": {
   "codemirror_mode": {
    "name": "ipython",
    "version": 3
   },
   "file_extension": ".py",
   "mimetype": "text/x-python",
   "name": "python",
   "nbconvert_exporter": "python",
   "pygments_lexer": "ipython3",
   "version": "3.6.3"
  }
 },
 "nbformat": 4,
 "nbformat_minor": 2
}
